{
 "cells": [
  {
   "cell_type": "code",
   "execution_count": 18,
   "metadata": {},
   "outputs": [],
   "source": [
    "import db\n",
    "import ast"
   ]
  },
  {
   "cell_type": "code",
   "execution_count": 3,
   "metadata": {},
   "outputs": [],
   "source": [
    "path = \"dba.csv\"\n",
    "chave = ['ID', 'datetime', 'Temperature', 'Humidity', 'Solo-0', 'Solo-1', 'Solo-2', 'Solo-3', 'Solo-4']\n",
    "valor = [1, '4/7/2019 1:32:48', 23.0, 93.0, 6, 19, 22, 8, 18]"
   ]
  },
  {
   "cell_type": "code",
   "execution_count": 4,
   "metadata": {},
   "outputs": [],
   "source": [
    "banco = db.Database(path,chave,valor)"
   ]
  },
  {
   "cell_type": "code",
   "execution_count": 5,
   "metadata": {},
   "outputs": [
    {
     "name": "stdout",
     "output_type": "stream",
     "text": [
      "**************************************************\n",
      "\t\tGRAVADO no CSV\n",
      "**************************************************\n"
     ]
    }
   ],
   "source": [
    "banco.gravar_dado()"
   ]
  },
  {
   "cell_type": "code",
   "execution_count": 6,
   "metadata": {},
   "outputs": [],
   "source": [
    "### pegar dados pela serial"
   ]
  },
  {
   "cell_type": "code",
   "execution_count": 9,
   "metadata": {},
   "outputs": [],
   "source": [
    "from serial import Serial"
   ]
  },
  {
   "cell_type": "code",
   "execution_count": 20,
   "metadata": {},
   "outputs": [],
   "source": [
    "try:\n",
    " ser = Serial(\"/dev/ttyUSB0\",9600)\n",
    "except:\n",
    " ser = Serial(\"/dev/ttyUSB1\",9600)\n"
   ]
  },
  {
   "cell_type": "code",
   "execution_count": 21,
   "metadata": {},
   "outputs": [],
   "source": [
    "from datetime import datetime "
   ]
  },
  {
   "cell_type": "code",
   "execution_count": 22,
   "metadata": {},
   "outputs": [],
   "source": [
    "def Tempo():\n",
    "    hora = datetime.now().hour\n",
    "    minute = datetime.now().minute\n",
    "    second = datetime.now().second\n",
    "    dia = datetime.now().day\n",
    "    mes = datetime.now().month\n",
    "    ano = datetime.now().year\n",
    "    return \"%s/%s/%s %s:%s:%s\" % (dia,mes,ano,hora,minute,second)"
   ]
  },
  {
   "cell_type": "code",
   "execution_count": 23,
   "metadata": {},
   "outputs": [],
   "source": [
    "def tratamento(msg):\n",
    "    dicionario = ast.literal_eval(str(msg.split(\"\\r\\n\")[0]))\n",
    "    try:\n",
    "           return dicionario\n",
    "    except:\n",
    "         pass\n",
    "\n"
   ]
  },
  {
   "cell_type": "code",
   "execution_count": 34,
   "metadata": {},
   "outputs": [
    {
     "name": "stdout",
     "output_type": "stream",
     "text": [
      "['ID', 'datetime', 'Temperature', 'Humidity', 'Solo-0', 'Solo-1', 'Solo-2', 'Solo-3', 'Solo-4'] [1, '4/7/2019 1:44:9', 23.0, 93.0, 7, 21, 22, 7, 19]\n",
      "**************************************************\n",
      "\t\tGRAVADO no CSV\n",
      "**************************************************\n",
      "['ID', 'datetime', 'Temperature', 'Humidity', 'Solo-0', 'Solo-1', 'Solo-2', 'Solo-3', 'Solo-4'] [1, '4/7/2019 1:44:9', 23.0, 92.0, 6, 21, 22, 7, 18]\n",
      "**************************************************\n",
      "\t\tGRAVADO no CSV\n",
      "**************************************************\n",
      "['ID', 'datetime', 'Temperature', 'Humidity', 'Solo-0', 'Solo-1', 'Solo-2', 'Solo-3', 'Solo-4'] [1, '4/7/2019 1:44:9', 23.0, 92.0, 6, 20, 22, 7, 18]\n",
      "**************************************************\n",
      "\t\tGRAVADO no CSV\n",
      "**************************************************\n"
     ]
    }
   ],
   "source": [
    "ID = 1\n",
    "for p in range(3):\n",
    "    text = ser.readline()\n",
    "    sensor_data = tratamento(text)\n",
    "    valores =  sensor_data.values()\n",
    "    chaves = sensor_data.keys()\n",
    "    valores.insert(0,ID)\n",
    "    chaves.insert(0,\"ID\")\n",
    "    valores.insert(1,Tempo())\n",
    "    chaves.insert(1,\"datetime\")\n",
    "    print chaves,valores\n",
    "    banco = db.Database(path,chaves,valores)\n",
    "    banco.gravar_dado()\n",
    "        "
   ]
  },
  {
   "cell_type": "code",
   "execution_count": 29,
   "metadata": {},
   "outputs": [
    {
     "data": {
      "text/plain": [
       "'dba.csv'"
      ]
     },
     "execution_count": 29,
     "metadata": {},
     "output_type": "execute_result"
    }
   ],
   "source": [
    "path"
   ]
  },
  {
   "cell_type": "code",
   "execution_count": 32,
   "metadata": {},
   "outputs": [],
   "source": [
    "banco = db.Database(path,chaves,valores)"
   ]
  },
  {
   "cell_type": "code",
   "execution_count": 33,
   "metadata": {},
   "outputs": [
    {
     "name": "stdout",
     "output_type": "stream",
     "text": [
      "**************************************************\n",
      "\t\tGRAVADO no CSV\n",
      "**************************************************\n"
     ]
    }
   ],
   "source": [
    "banco.gravar_dado()"
   ]
  },
  {
   "cell_type": "code",
   "execution_count": 46,
   "metadata": {},
   "outputs": [
    {
     "data": {
      "text/plain": [
       "[1, '4/7/2019 1:44:9', 23.0, 92.0, 6, 20, 22, 7, 18]"
      ]
     },
     "execution_count": 46,
     "metadata": {},
     "output_type": "execute_result"
    }
   ],
   "source": [
    "valores"
   ]
  },
  {
   "cell_type": "code",
   "execution_count": 76,
   "metadata": {},
   "outputs": [],
   "source": [
    "import pandas as pd "
   ]
  },
  {
   "cell_type": "code",
   "execution_count": 86,
   "metadata": {},
   "outputs": [
    {
     "data": {
      "text/html": [
       "<div>\n",
       "<style scoped>\n",
       "    .dataframe tbody tr th:only-of-type {\n",
       "        vertical-align: middle;\n",
       "    }\n",
       "\n",
       "    .dataframe tbody tr th {\n",
       "        vertical-align: top;\n",
       "    }\n",
       "\n",
       "    .dataframe thead th {\n",
       "        text-align: right;\n",
       "    }\n",
       "</style>\n",
       "<table border=\"1\" class=\"dataframe\">\n",
       "  <thead>\n",
       "    <tr style=\"text-align: right;\">\n",
       "      <th></th>\n",
       "      <th>ID</th>\n",
       "      <th>datetime</th>\n",
       "      <th>Temperature</th>\n",
       "      <th>Humidity</th>\n",
       "      <th>Solo-0</th>\n",
       "      <th>Solo-1</th>\n",
       "      <th>Solo-2</th>\n",
       "      <th>Solo-3</th>\n",
       "      <th>Solo-4</th>\n",
       "    </tr>\n",
       "  </thead>\n",
       "  <tbody>\n",
       "    <tr>\n",
       "      <th>0</th>\n",
       "      <td>1</td>\n",
       "      <td>4/7/2019 0:52</td>\n",
       "      <td>23.0</td>\n",
       "      <td>93.0</td>\n",
       "      <td>5</td>\n",
       "      <td>37</td>\n",
       "      <td>21</td>\n",
       "      <td>8</td>\n",
       "      <td>20</td>\n",
       "    </tr>\n",
       "    <tr>\n",
       "      <th>1</th>\n",
       "      <td>1</td>\n",
       "      <td>4/7/2019 1:16:43</td>\n",
       "      <td>23.0</td>\n",
       "      <td>92.0</td>\n",
       "      <td>7</td>\n",
       "      <td>23</td>\n",
       "      <td>21</td>\n",
       "      <td>7</td>\n",
       "      <td>19</td>\n",
       "    </tr>\n",
       "    <tr>\n",
       "      <th>2</th>\n",
       "      <td>1</td>\n",
       "      <td>4/7/2019 1:16:48</td>\n",
       "      <td>23.0</td>\n",
       "      <td>91.0</td>\n",
       "      <td>7</td>\n",
       "      <td>23</td>\n",
       "      <td>25</td>\n",
       "      <td>7</td>\n",
       "      <td>19</td>\n",
       "    </tr>\n",
       "    <tr>\n",
       "      <th>3</th>\n",
       "      <td>1</td>\n",
       "      <td>4/7/2019 1:32:48</td>\n",
       "      <td>23.0</td>\n",
       "      <td>93.0</td>\n",
       "      <td>6</td>\n",
       "      <td>19</td>\n",
       "      <td>22</td>\n",
       "      <td>8</td>\n",
       "      <td>18</td>\n",
       "    </tr>\n",
       "    <tr>\n",
       "      <th>4</th>\n",
       "      <td>1</td>\n",
       "      <td>4/7/2019 1:32:48</td>\n",
       "      <td>23.0</td>\n",
       "      <td>93.0</td>\n",
       "      <td>6</td>\n",
       "      <td>19</td>\n",
       "      <td>22</td>\n",
       "      <td>8</td>\n",
       "      <td>18</td>\n",
       "    </tr>\n",
       "  </tbody>\n",
       "</table>\n",
       "</div>"
      ],
      "text/plain": [
       "   ID           datetime  Temperature  Humidity  Solo-0  Solo-1  Solo-2  \\\n",
       "0   1      4/7/2019 0:52         23.0      93.0       5      37      21   \n",
       "1   1   4/7/2019 1:16:43         23.0      92.0       7      23      21   \n",
       "2   1   4/7/2019 1:16:48         23.0      91.0       7      23      25   \n",
       "3   1   4/7/2019 1:32:48         23.0      93.0       6      19      22   \n",
       "4   1   4/7/2019 1:32:48         23.0      93.0       6      19      22   \n",
       "\n",
       "   Solo-3  Solo-4  \n",
       "0       8      20  \n",
       "1       7      19  \n",
       "2       7      19  \n",
       "3       8      18  \n",
       "4       8      18  "
      ]
     },
     "execution_count": 86,
     "metadata": {},
     "output_type": "execute_result"
    }
   ],
   "source": [
    "df = pd.read_csv(\"dba.csv\")\n",
    "df.head()\n"
   ]
  },
  {
   "cell_type": "code",
   "execution_count": 90,
   "metadata": {},
   "outputs": [
    {
     "data": {
      "text/html": [
       "<div>\n",
       "<style scoped>\n",
       "    .dataframe tbody tr th:only-of-type {\n",
       "        vertical-align: middle;\n",
       "    }\n",
       "\n",
       "    .dataframe tbody tr th {\n",
       "        vertical-align: top;\n",
       "    }\n",
       "\n",
       "    .dataframe thead th {\n",
       "        text-align: right;\n",
       "    }\n",
       "</style>\n",
       "<table border=\"1\" class=\"dataframe\">\n",
       "  <thead>\n",
       "    <tr style=\"text-align: right;\">\n",
       "      <th></th>\n",
       "      <th>ID</th>\n",
       "      <th>Temperature</th>\n",
       "      <th>Humidity</th>\n",
       "      <th>Solo-0</th>\n",
       "      <th>Solo-1</th>\n",
       "      <th>Solo-2</th>\n",
       "      <th>Solo-3</th>\n",
       "      <th>Solo-4</th>\n",
       "    </tr>\n",
       "  </thead>\n",
       "  <tbody>\n",
       "    <tr>\n",
       "      <th>count</th>\n",
       "      <td>509.0</td>\n",
       "      <td>509.0</td>\n",
       "      <td>509.000000</td>\n",
       "      <td>509.000000</td>\n",
       "      <td>509.000000</td>\n",
       "      <td>509.000000</td>\n",
       "      <td>509.000000</td>\n",
       "      <td>509.000000</td>\n",
       "    </tr>\n",
       "    <tr>\n",
       "      <th>mean</th>\n",
       "      <td>1.0</td>\n",
       "      <td>23.0</td>\n",
       "      <td>92.834971</td>\n",
       "      <td>5.202358</td>\n",
       "      <td>33.518664</td>\n",
       "      <td>22.092338</td>\n",
       "      <td>7.915521</td>\n",
       "      <td>18.003929</td>\n",
       "    </tr>\n",
       "    <tr>\n",
       "      <th>std</th>\n",
       "      <td>0.0</td>\n",
       "      <td>0.0</td>\n",
       "      <td>0.494333</td>\n",
       "      <td>0.889746</td>\n",
       "      <td>6.376179</td>\n",
       "      <td>0.918596</td>\n",
       "      <td>1.265352</td>\n",
       "      <td>0.509732</td>\n",
       "    </tr>\n",
       "    <tr>\n",
       "      <th>min</th>\n",
       "      <td>1.0</td>\n",
       "      <td>23.0</td>\n",
       "      <td>91.000000</td>\n",
       "      <td>4.000000</td>\n",
       "      <td>18.000000</td>\n",
       "      <td>21.000000</td>\n",
       "      <td>6.000000</td>\n",
       "      <td>17.000000</td>\n",
       "    </tr>\n",
       "    <tr>\n",
       "      <th>25%</th>\n",
       "      <td>1.0</td>\n",
       "      <td>23.0</td>\n",
       "      <td>93.000000</td>\n",
       "      <td>5.000000</td>\n",
       "      <td>35.000000</td>\n",
       "      <td>22.000000</td>\n",
       "      <td>7.000000</td>\n",
       "      <td>18.000000</td>\n",
       "    </tr>\n",
       "    <tr>\n",
       "      <th>50%</th>\n",
       "      <td>1.0</td>\n",
       "      <td>23.0</td>\n",
       "      <td>93.000000</td>\n",
       "      <td>5.000000</td>\n",
       "      <td>36.000000</td>\n",
       "      <td>22.000000</td>\n",
       "      <td>8.000000</td>\n",
       "      <td>18.000000</td>\n",
       "    </tr>\n",
       "    <tr>\n",
       "      <th>75%</th>\n",
       "      <td>1.0</td>\n",
       "      <td>23.0</td>\n",
       "      <td>93.000000</td>\n",
       "      <td>6.000000</td>\n",
       "      <td>37.000000</td>\n",
       "      <td>22.000000</td>\n",
       "      <td>8.000000</td>\n",
       "      <td>18.000000</td>\n",
       "    </tr>\n",
       "    <tr>\n",
       "      <th>max</th>\n",
       "      <td>1.0</td>\n",
       "      <td>23.0</td>\n",
       "      <td>93.000000</td>\n",
       "      <td>11.000000</td>\n",
       "      <td>39.000000</td>\n",
       "      <td>26.000000</td>\n",
       "      <td>12.000000</td>\n",
       "      <td>20.000000</td>\n",
       "    </tr>\n",
       "  </tbody>\n",
       "</table>\n",
       "</div>"
      ],
      "text/plain": [
       "          ID  Temperature    Humidity      Solo-0      Solo-1      Solo-2  \\\n",
       "count  509.0        509.0  509.000000  509.000000  509.000000  509.000000   \n",
       "mean     1.0         23.0   92.834971    5.202358   33.518664   22.092338   \n",
       "std      0.0          0.0    0.494333    0.889746    6.376179    0.918596   \n",
       "min      1.0         23.0   91.000000    4.000000   18.000000   21.000000   \n",
       "25%      1.0         23.0   93.000000    5.000000   35.000000   22.000000   \n",
       "50%      1.0         23.0   93.000000    5.000000   36.000000   22.000000   \n",
       "75%      1.0         23.0   93.000000    6.000000   37.000000   22.000000   \n",
       "max      1.0         23.0   93.000000   11.000000   39.000000   26.000000   \n",
       "\n",
       "           Solo-3      Solo-4  \n",
       "count  509.000000  509.000000  \n",
       "mean     7.915521   18.003929  \n",
       "std      1.265352    0.509732  \n",
       "min      6.000000   17.000000  \n",
       "25%      7.000000   18.000000  \n",
       "50%      8.000000   18.000000  \n",
       "75%      8.000000   18.000000  \n",
       "max     12.000000   20.000000  "
      ]
     },
     "execution_count": 90,
     "metadata": {},
     "output_type": "execute_result"
    }
   ],
   "source": [
    "df.describe()\n"
   ]
  },
  {
   "cell_type": "code",
   "execution_count": 88,
   "metadata": {},
   "outputs": [
    {
     "name": "stdout",
     "output_type": "stream",
     "text": [
      "<class 'pandas.core.frame.DataFrame'>\n",
      "RangeIndex: 509 entries, 0 to 508\n",
      "Data columns (total 9 columns):\n",
      "ID             509 non-null int64\n",
      "datetime       509 non-null object\n",
      "Temperature    509 non-null float64\n",
      "Humidity       509 non-null float64\n",
      "Solo-0         509 non-null int64\n",
      "Solo-1         509 non-null int64\n",
      "Solo-2         509 non-null int64\n",
      "Solo-3         509 non-null int64\n",
      "Solo-4         509 non-null int64\n",
      "dtypes: float64(2), int64(6), object(1)\n",
      "memory usage: 35.9+ KB\n"
     ]
    }
   ],
   "source": [
    "df.info()"
   ]
  },
  {
   "cell_type": "code",
   "execution_count": 95,
   "metadata": {},
   "outputs": [],
   "source": [
    "df_1 = df.drop(columns=['ID','Temperature','Humidity'])"
   ]
  },
  {
   "cell_type": "code",
   "execution_count": 97,
   "metadata": {},
   "outputs": [
    {
     "data": {
      "text/html": [
       "<div>\n",
       "<style scoped>\n",
       "    .dataframe tbody tr th:only-of-type {\n",
       "        vertical-align: middle;\n",
       "    }\n",
       "\n",
       "    .dataframe tbody tr th {\n",
       "        vertical-align: top;\n",
       "    }\n",
       "\n",
       "    .dataframe thead th {\n",
       "        text-align: right;\n",
       "    }\n",
       "</style>\n",
       "<table border=\"1\" class=\"dataframe\">\n",
       "  <thead>\n",
       "    <tr style=\"text-align: right;\">\n",
       "      <th></th>\n",
       "      <th>datetime</th>\n",
       "      <th>Solo-0</th>\n",
       "      <th>Solo-1</th>\n",
       "      <th>Solo-2</th>\n",
       "      <th>Solo-3</th>\n",
       "      <th>Solo-4</th>\n",
       "    </tr>\n",
       "  </thead>\n",
       "  <tbody>\n",
       "    <tr>\n",
       "      <th>0</th>\n",
       "      <td>4/7/2019 0:52</td>\n",
       "      <td>5</td>\n",
       "      <td>37</td>\n",
       "      <td>21</td>\n",
       "      <td>8</td>\n",
       "      <td>20</td>\n",
       "    </tr>\n",
       "    <tr>\n",
       "      <th>1</th>\n",
       "      <td>4/7/2019 1:16:43</td>\n",
       "      <td>7</td>\n",
       "      <td>23</td>\n",
       "      <td>21</td>\n",
       "      <td>7</td>\n",
       "      <td>19</td>\n",
       "    </tr>\n",
       "    <tr>\n",
       "      <th>2</th>\n",
       "      <td>4/7/2019 1:16:48</td>\n",
       "      <td>7</td>\n",
       "      <td>23</td>\n",
       "      <td>25</td>\n",
       "      <td>7</td>\n",
       "      <td>19</td>\n",
       "    </tr>\n",
       "    <tr>\n",
       "      <th>3</th>\n",
       "      <td>4/7/2019 1:32:48</td>\n",
       "      <td>6</td>\n",
       "      <td>19</td>\n",
       "      <td>22</td>\n",
       "      <td>8</td>\n",
       "      <td>18</td>\n",
       "    </tr>\n",
       "    <tr>\n",
       "      <th>4</th>\n",
       "      <td>4/7/2019 1:32:48</td>\n",
       "      <td>6</td>\n",
       "      <td>19</td>\n",
       "      <td>22</td>\n",
       "      <td>8</td>\n",
       "      <td>18</td>\n",
       "    </tr>\n",
       "  </tbody>\n",
       "</table>\n",
       "</div>"
      ],
      "text/plain": [
       "            datetime  Solo-0  Solo-1  Solo-2  Solo-3  Solo-4\n",
       "0      4/7/2019 0:52       5      37      21       8      20\n",
       "1   4/7/2019 1:16:43       7      23      21       7      19\n",
       "2   4/7/2019 1:16:48       7      23      25       7      19\n",
       "3   4/7/2019 1:32:48       6      19      22       8      18\n",
       "4   4/7/2019 1:32:48       6      19      22       8      18"
      ]
     },
     "execution_count": 97,
     "metadata": {},
     "output_type": "execute_result"
    }
   ],
   "source": [
    "df_1.head()"
   ]
  },
  {
   "cell_type": "code",
   "execution_count": 98,
   "metadata": {},
   "outputs": [],
   "source": [
    "old_df = pd.read_csv(\"../v1/plantacao.csv\")"
   ]
  },
  {
   "cell_type": "code",
   "execution_count": 106,
   "metadata": {},
   "outputs": [
    {
     "data": {
      "text/plain": [
       "0          4/7/2019 0:52\n",
       "1       4/7/2019 1:16:43\n",
       "2       4/7/2019 1:16:48\n",
       "3       4/7/2019 1:32:48\n",
       "4       4/7/2019 1:32:48\n",
       "5       4/7/2019 1:40:44\n",
       "6        4/7/2019 1:44:9\n",
       "7        4/7/2019 1:44:9\n",
       "8        4/7/2019 1:44:9\n",
       "9        4/7/2019 2:7:46\n",
       "10       4/7/2019 2:7:51\n",
       "11       4/7/2019 2:7:56\n",
       "12        4/7/2019 2:8:1\n",
       "13        4/7/2019 2:8:6\n",
       "14       4/7/2019 2:8:11\n",
       "15       4/7/2019 2:8:16\n",
       "16       4/7/2019 2:8:21\n",
       "17       4/7/2019 2:8:26\n",
       "18       4/7/2019 2:8:31\n",
       "19       4/7/2019 2:8:36\n",
       "20       4/7/2019 2:8:41\n",
       "21       4/7/2019 2:8:46\n",
       "22       4/7/2019 2:8:52\n",
       "23       4/7/2019 2:8:57\n",
       "24        4/7/2019 2:9:2\n",
       "25        4/7/2019 2:9:7\n",
       "26       4/7/2019 2:9:12\n",
       "27       4/7/2019 2:9:17\n",
       "28       4/7/2019 2:9:22\n",
       "29       4/7/2019 2:9:27\n",
       "             ...        \n",
       "479     4/7/2019 2:47:28\n",
       "480     4/7/2019 2:47:33\n",
       "481     4/7/2019 2:47:38\n",
       "482     4/7/2019 2:47:43\n",
       "483     4/7/2019 2:47:48\n",
       "484     4/7/2019 2:47:53\n",
       "485     4/7/2019 2:47:58\n",
       "486      4/7/2019 2:48:3\n",
       "487      4/7/2019 2:48:8\n",
       "488     4/7/2019 2:48:13\n",
       "489     4/7/2019 2:48:18\n",
       "490     4/7/2019 2:48:23\n",
       "491     4/7/2019 2:48:28\n",
       "492     4/7/2019 2:48:33\n",
       "493     4/7/2019 2:48:38\n",
       "494     4/7/2019 2:48:44\n",
       "495     4/7/2019 2:48:49\n",
       "496     4/7/2019 2:48:54\n",
       "497     4/7/2019 2:48:59\n",
       "498      4/7/2019 2:49:4\n",
       "499      4/7/2019 2:49:9\n",
       "500     4/7/2019 2:49:14\n",
       "501     4/7/2019 2:49:19\n",
       "502     4/7/2019 2:49:24\n",
       "503     4/7/2019 2:49:29\n",
       "504     4/7/2019 2:49:34\n",
       "505     4/7/2019 2:49:39\n",
       "506     4/7/2019 2:49:44\n",
       "507     4/7/2019 2:49:49\n",
       "508     4/7/2019 2:49:54\n",
       "Name: datetime, Length: 509, dtype: object"
      ]
     },
     "execution_count": 106,
     "metadata": {},
     "output_type": "execute_result"
    }
   ],
   "source": [
    "df_1['datetime']"
   ]
  },
  {
   "cell_type": "code",
   "execution_count": 100,
   "metadata": {},
   "outputs": [],
   "source": [
    "import model"
   ]
  },
  {
   "cell_type": "code",
   "execution_count": 102,
   "metadata": {},
   "outputs": [
    {
     "ename": "TypeError",
     "evalue": "__init__() takes exactly 3 arguments (2 given)",
     "output_type": "error",
     "traceback": [
      "\u001b[0;31m---------------------------------------------------------------------------\u001b[0m",
      "\u001b[0;31mTypeError\u001b[0m                                 Traceback (most recent call last)",
      "\u001b[0;32m<ipython-input-102-9a60c3c53f25>\u001b[0m in \u001b[0;36m<module>\u001b[0;34m()\u001b[0m\n\u001b[0;32m----> 1\u001b[0;31m \u001b[0mmodelo\u001b[0m \u001b[0;34m=\u001b[0m \u001b[0mmodel\u001b[0m\u001b[0;34m.\u001b[0m\u001b[0mModel\u001b[0m\u001b[0;34m(\u001b[0m\u001b[0;34m[\u001b[0m\u001b[0;36m6\u001b[0m\u001b[0;34m,\u001b[0m\u001b[0;36m21\u001b[0m\u001b[0;34m,\u001b[0m\u001b[0;36m11\u001b[0m\u001b[0;34m,\u001b[0m\u001b[0;36m8\u001b[0m\u001b[0;34m]\u001b[0m\u001b[0;34m)\u001b[0m\u001b[0;34m\u001b[0m\u001b[0;34m\u001b[0m\u001b[0m\n\u001b[0m",
      "\u001b[0;31mTypeError\u001b[0m: __init__() takes exactly 3 arguments (2 given)"
     ]
    }
   ],
   "source": [
    "modelo = model.Model([6,21,11,8])\n"
   ]
  },
  {
   "cell_type": "code",
   "execution_count": null,
   "metadata": {},
   "outputs": [],
   "source": []
  }
 ],
 "metadata": {
  "kernelspec": {
   "display_name": "Python 2",
   "language": "python",
   "name": "python2"
  },
  "language_info": {
   "codemirror_mode": {
    "name": "ipython",
    "version": 2
   },
   "file_extension": ".py",
   "mimetype": "text/x-python",
   "name": "python",
   "nbconvert_exporter": "python",
   "pygments_lexer": "ipython2",
   "version": "2.7.15+"
  }
 },
 "nbformat": 4,
 "nbformat_minor": 2
}
